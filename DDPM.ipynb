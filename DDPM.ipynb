{
 "cells": [
  {
   "cell_type": "markdown",
   "metadata": {},
   "source": [
    "## 라이브러리 가져오기"
   ]
  },
  {
   "cell_type": "code",
   "execution_count": 1,
   "metadata": {},
   "outputs": [],
   "source": [
    "import matplotlib.animation as animation\n",
    "import matplotlib.pyplot as plt\n",
    "import numpy as np\n",
    "\n",
    "from tqdm.auto import tqdm\n",
    "\n",
    "import torch\n",
    "import torch.nn as nn\n",
    "import torch.optim as optim\n",
    "import torch.nn.functional as F"
   ]
  },
  {
   "cell_type": "markdown",
   "metadata": {},
   "source": [
    "## 데이터셋 불러오기"
   ]
  },
  {
   "cell_type": "code",
   "execution_count": 2,
   "metadata": {},
   "outputs": [
    {
     "data": {
      "text/plain": [
       "(102500, 2)"
      ]
     },
     "execution_count": 2,
     "metadata": {},
     "output_type": "execute_result"
    }
   ],
   "source": [
    "data = np.loadtxt('data.txt')\n",
    "\n",
    "data = (data - data.mean(axis=0)) / data.std(axis=0)\n",
    "\n",
    "data = np.repeat(data, 25, axis=0)\n",
    "\n",
    "data.shape"
   ]
  },
  {
   "cell_type": "code",
   "execution_count": 3,
   "metadata": {},
   "outputs": [
    {
     "data": {
      "image/png": "[encoded data removed]",
      "text/plain": [
       "<Figure size 400x400 with 1 Axes>"
      ]
     },
     "metadata": {},
     "output_type": "display_data"
    }
   ],
   "source": [
    "plt.figure(figsize=(4, 4))\n",
    "plt.scatter(data[:, 0], data[:, 1], c='black', s=1)\n",
    "plt.xlim(-4, 4)\n",
    "plt.ylim(-4, 4)\n",
    "plt.axis('off')\n",
    "plt.show()"
   ]
  },
  {
   "cell_type": "markdown",
   "metadata": {},
   "source": [
    "## 학습용 데이터로 만들기"
   ]
  },
  {
   "cell_type": "code",
   "execution_count": 4,
   "metadata": {},
   "outputs": [
    {
     "data": {
      "text/plain": [
       "torch.Size([102500, 2])"
      ]
     },
     "execution_count": 4,
     "metadata": {},
     "output_type": "execute_result"
    }
   ],
   "source": [
    "X = torch.tensor(data, dtype=torch.float32)\n",
    "X.shape"
   ]
  },
  {
   "cell_type": "markdown",
   "metadata": {},
   "source": [
    "## Hyperparameters for Diffusion Model"
   ]
  },
  {
   "cell_type": "code",
   "execution_count": 5,
   "metadata": {},
   "outputs": [
    {
     "data": {
      "image/png": "[encoded data removed]",
      "text/plain": [
       "<Figure size 400x200 with 1 Axes>"
      ]
     },
     "metadata": {},
     "output_type": "display_data"
    }
   ],
   "source": [
    "T = 100\n",
    "timesteps = torch.tensor(range(0, T), dtype=torch.float32)\n",
    "\n",
    "\n",
    "betas = torch.linspace(0.01, 0.01, T)\n",
    "alphas = 1 - betas\n",
    "alpha_bars = torch.cumprod(alphas, 0)\n",
    "\n",
    "\n",
    "plt.figure(figsize=(4, 2))\n",
    "plt.plot(alphas, label='alpha')\n",
    "plt.plot(alpha_bars, label='alpha_bars')\n",
    "plt.legend()\n",
    "plt.show()"
   ]
  },
  {
   "cell_type": "markdown",
   "metadata": {},
   "source": [
    "## Forward Process 정의"
   ]
  },
  {
   "cell_type": "code",
   "execution_count": 6,
   "metadata": {},
   "outputs": [],
   "source": [
    "def q_xt_x0(x0, t):\n",
    "    epsilon = torch.randn(size=x0.shape)\n",
    "    \n",
    "    xt = torch.sqrt(alpha_bars[t]).repeat(1, x0.shape[1]) * x0 + \\\n",
    "        torch.sqrt(1 - alpha_bars[t]).repeat(1, x0.shape[1]) * epsilon\n",
    "    \n",
    "    return xt, epsilon"
   ]
  },
  {
   "cell_type": "markdown",
   "metadata": {},
   "source": [
    "## Diffusion Model"
   ]
  },
  {
   "cell_type": "code",
   "execution_count": 7,
   "metadata": {},
   "outputs": [],
   "source": [
    "class DiffusionBlock(nn.Module):\n",
    "    def __init__(self, n_units):\n",
    "        super(DiffusionBlock, self).__init__()\n",
    "        self.linear = nn.Linear(n_units, n_units)\n",
    "    \n",
    "    def forward(self, x):\n",
    "        x = self.linear(x)\n",
    "        x = F.relu(x)\n",
    "        return x"
   ]
  },
  {
   "cell_type": "code",
   "execution_count": 8,
   "metadata": {},
   "outputs": [],
   "source": [
    "class DiffusionModel(nn.Module):\n",
    "    def __init__(self, n_features, n_blocks=4, n_units=64):\n",
    "        super(DiffusionModel, self).__init__()\n",
    "        \n",
    "        self.inblock = nn.Linear(n_features + 1, n_units)\n",
    "        self.midblocks = nn.ModuleList([DiffusionBlock(n_units) for _ in range(n_blocks)])\n",
    "        self.outblock = nn.Linear(n_units, n_features)\n",
    "    \n",
    "    def forward(self, x, t):\n",
    "        x = torch.hstack([x, t])\n",
    "        x = self.inblock(x)\n",
    "        for midblock in self.midblocks:\n",
    "            x = midblock(x)\n",
    "        x = self.outblock(x)\n",
    "        return x"
   ]
  },
  {
   "cell_type": "code",
   "execution_count": 9,
   "metadata": {},
   "outputs": [
    {
     "data": {
      "text/plain": [
       "DiffusionModel(\n",
       "  (inblock): Linear(in_features=3, out_features=64, bias=True)\n",
       "  (midblocks): ModuleList(\n",
       "    (0-3): 4 x DiffusionBlock(\n",
       "      (linear): Linear(in_features=64, out_features=64, bias=True)\n",
       "    )\n",
       "  )\n",
       "  (outblock): Linear(in_features=64, out_features=2, bias=True)\n",
       ")"
      ]
     },
     "execution_count": 9,
     "metadata": {},
     "output_type": "execute_result"
    }
   ],
   "source": [
    "model = DiffusionModel(n_features=2)\n",
    "\n",
    "device = torch.device('cuda' if torch.cuda.is_available() else 'cpu')\n",
    "model = model.to(device)\n",
    "\n",
    "model"
   ]
  },
  {
   "cell_type": "markdown",
   "metadata": {},
   "source": [
    "## Training"
   ]
  },
  {
   "cell_type": "code",
   "execution_count": 10,
   "metadata": {},
   "outputs": [
    {
     "data": {
      "application/vnd.jupyter.widget-view+json": {
       "model_id": "8ac54a6df74a48b49d1d43f164a42492",
       "version_major": 2,
       "version_minor": 0
      },
      "text/plain": [
       "  0%|          | 0/200 [00:00<?, ?it/s]"
      ]
     },
     "metadata": {},
     "output_type": "display_data"
    }
   ],
   "source": [
    "epochs = 200\n",
    "batch_size = 2048\n",
    "\n",
    "loss_fn = nn.MSELoss()\n",
    "optimizer = optim.Adam(model.parameters(), lr=0.001)\n",
    "\n",
    "pbar = tqdm(range(epochs), total=epochs, leave=False)\n",
    "\n",
    "\n",
    "for epoch in pbar:\n",
    "    epoch_loss = steps = 0\n",
    "    \n",
    "    for i in range(0, len(X), batch_size):\n",
    "        X_batch = X[i:i + batch_size]\n",
    "        \n",
    "        t = torch.randint(0, T, size=[len(X_batch), 1])\n",
    "        \n",
    "        xt, eps = q_xt_x0(X_batch, t)\n",
    "        \n",
    "        \n",
    "        eps_theta = model(xt.to(device), t.to(device))\n",
    "        \n",
    "        loss = loss_fn(eps_theta, eps.to(device))\n",
    "        \n",
    "        optimizer.zero_grad()\n",
    "        loss.backward()\n",
    "        optimizer.step()\n",
    "        \n",
    "        epoch_loss += loss\n",
    "        steps += 1\n",
    "    \n",
    "    pbar.set_description(f\"Epoch {epoch + 1}/{epochs}, Loss: {epoch_loss / steps:.4f}\")\n",
    "    pbar.update(1)\n",
    "\n",
    "pbar.close()"
   ]
  },
  {
   "cell_type": "markdown",
   "metadata": {},
   "source": [
    "## Sampling"
   ]
  },
  {
   "cell_type": "code",
   "execution_count": 11,
   "metadata": {},
   "outputs": [],
   "source": [
    "def sample(model, n_samples, n_features):\n",
    "    with torch.no_grad():\n",
    "        x = torch.randn(size=(n_samples, n_features)).to(device)\n",
    "        \n",
    "        xt = [x]\n",
    "        \n",
    "        for t in range(T-1, -1, -1):\n",
    "            eps_theta = model(x, torch.full([n_samples, 1], t).to(device))\n",
    "            \n",
    "            \n",
    "            x = 1 / torch.sqrt(alphas[t]) * (x - (1 - alphas[t]) / torch.sqrt(1 - alpha_bars[t]) * eps_theta)\n",
    "\n",
    "            sigma = betas[t]\n",
    "            std = torch.sqrt(sigma)\n",
    "            x += std * torch.randn(size=(n_samples, n_features)).to(device)\n",
    "            xt += [x]\n",
    "        \n",
    "        return x, xt"
   ]
  },
  {
   "cell_type": "code",
   "execution_count": 12,
   "metadata": {},
   "outputs": [],
   "source": [
    "Xgen, Xgen_hist = sample(model, 10000, 2)\n",
    "Xgen = Xgen.cpu()"
   ]
  },
  {
   "cell_type": "code",
   "execution_count": 13,
   "metadata": {},
   "outputs": [
    {
     "name": "stderr",
     "output_type": "stream",
     "text": [
      "MovieWriter imagemagick unavailable; using Pillow instead.\n"
     ]
    },
    {
     "data": {
      "image/png": "[encoded data removed]",
      "text/plain": [
       "<Figure size 600x600 with 1 Axes>"
      ]
     },
     "metadata": {},
     "output_type": "display_data"
    }
   ],
   "source": [
    "fig, ax = plt.subplots(figsize=(6, 6))\n",
    "\n",
    "def draw_frame(i):\n",
    "    ax.clear()\n",
    "    Xvis = Xgen_hist[i].cpu()\n",
    "    fig = ax.scatter(Xvis[:, 0], Xvis[:, 1], c='black', s=1, animated=True)\n",
    "    ax.set_xlim([-4, 4])\n",
    "    ax.set_ylim([-4, 4])\n",
    "    ax.axis('off')\n",
    "    ax.set_title(f'step {i+1}')\n",
    "    return fig,\n",
    "\n",
    "frames = list(range(T)) + [T-1] * 100\n",
    "\n",
    "anim = animation.FuncAnimation(fig, draw_frame, frames=frames, interval=50, blit=True)\n",
    "\n",
    "anim.save('DDPM_sampling.gif', writer='imagemagick', fps=20)"
   ]
  }
 ],
 "metadata": {
  "kernelspec": {
   "display_name": "diff_sem",
   "language": "python",
   "name": "python3"
  },
  "language_info": {
   "codemirror_mode": {
    "name": "ipython",
    "version": 3
   },
   "file_extension": ".py",
   "mimetype": "text/x-python",
   "name": "python",
   "nbconvert_exporter": "python",
   "pygments_lexer": "ipython3",
   "version": "3.12.3"
  }
 },
 "nbformat": 4,
 "nbformat_minor": 2
}
