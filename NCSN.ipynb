{
 "cells": [
  {
   "cell_type": "markdown",
   "metadata": {},
   "source": [
    "## 라이브러리 가져오기"
   ]
  },
  {
   "cell_type": "code",
   "execution_count": 1,
   "metadata": {},
   "outputs": [],
   "source": [
    "import matplotlib.animation as animation\n",
    "import matplotlib.pyplot as plt\n",
    "import numpy as np\n",
    "\n",
    "from tqdm.auto import tqdm\n",
    "import torch\n",
    "import torch.nn as nn\n",
    "import torch.optim as optim\n",
    "import torch.nn.functional as F"
   ]
  },
  {
   "cell_type": "markdown",
   "metadata": {},
   "source": [
    "## 데이터셋 불러오기"
   ]
  },
  {
   "cell_type": "code",
   "execution_count": 2,
   "metadata": {},
   "outputs": [
    {
     "data": {
      "text/plain": [
       "(4100, 2)"
      ]
     },
     "execution_count": 2,
     "metadata": {},
     "output_type": "execute_result"
    }
   ],
   "source": [
    "data = np.loadtxt('data.txt')\n",
    "data = ((data - data.mean(axis=0)) / data.std(axis=0)) * 5\n",
    "\n",
    "data.shape"
   ]
  },
  {
   "cell_type": "code",
   "execution_count": 3,
   "metadata": {},
   "outputs": [
    {
     "data": {
      "image/png": "[encoded data removed]",
      "text/plain": [
       "<Figure size 400x400 with 1 Axes>"
      ]
     },
     "metadata": {},
     "output_type": "display_data"
    }
   ],
   "source": [
    "plt.figure(figsize=(4, 4))\n",
    "plt.scatter(data[:, 0], data[:, 1], c='black', s=1)\n",
    "plt.xlim(-20, 20)\n",
    "plt.ylim(-20, 20)\n",
    "plt.axis('off')\n",
    "plt.show()"
   ]
  },
  {
   "cell_type": "markdown",
   "metadata": {},
   "source": [
    "## 학습용 데이터로 만들기"
   ]
  },
  {
   "cell_type": "code",
   "execution_count": 4,
   "metadata": {},
   "outputs": [
    {
     "data": {
      "text/plain": [
       "torch.Size([4100, 2])"
      ]
     },
     "execution_count": 4,
     "metadata": {},
     "output_type": "execute_result"
    }
   ],
   "source": [
    "X = torch.tensor(data, dtype=torch.float32)\n",
    "X.shape"
   ]
  },
  {
   "cell_type": "markdown",
   "metadata": {},
   "source": [
    "## Hyperparameters for Diffusion Model"
   ]
  },
  {
   "cell_type": "code",
   "execution_count": 5,
   "metadata": {},
   "outputs": [
    {
     "data": {
      "image/png": "[encoded data removed]",
      "text/plain": [
       "<Figure size 400x200 with 1 Axes>"
      ]
     },
     "metadata": {},
     "output_type": "display_data"
    }
   ],
   "source": [
    "T = 20\n",
    "L = 10\n",
    "eps = 0.1\n",
    "\n",
    "sigmas = [20 * ((1/20) ** (1/9))**i for i in range(L)]\n",
    "sigmas = torch.tensor(sigmas, dtype=torch.float32)\n",
    "\n",
    "lambdas = [i**2 for i in sigmas]\n",
    "lambdas = torch.tensor(lambdas, dtype=torch.float32)\n",
    "\n",
    "plt.figure(figsize=(4, 2))\n",
    "plt.plot(sigmas, label='sigma')\n",
    "plt.plot(lambdas, label='lambda')\n",
    "plt.legend()\n",
    "plt.show()"
   ]
  },
  {
   "cell_type": "markdown",
   "metadata": {},
   "source": [
    "## NCSN 모델"
   ]
  },
  {
   "cell_type": "code",
   "execution_count": 6,
   "metadata": {},
   "outputs": [],
   "source": [
    "class NCSN(nn.Module):\n",
    "    def __init__(self):\n",
    "        super().__init__()\n",
    "        self.net = nn.Sequential(\n",
    "            nn.Linear(2+1, 128),\n",
    "            nn.Softplus(),\n",
    "            nn.Linear(128, 128),\n",
    "            nn.Softplus(),\n",
    "            nn.Linear(128, 2)\n",
    "        )\n",
    "    \n",
    "    def forward(self, x, sigma):\n",
    "        sigma = sigma.unsqueeze(0).repeat(x.shape[0], 1)\n",
    "        x = torch.hstack([x, sigma])\n",
    "        return self.net(x)"
   ]
  },
  {
   "cell_type": "code",
   "execution_count": 7,
   "metadata": {},
   "outputs": [
    {
     "data": {
      "text/plain": [
       "NCSN(\n",
       "  (net): Sequential(\n",
       "    (0): Linear(in_features=3, out_features=128, bias=True)\n",
       "    (1): Softplus(beta=1.0, threshold=20.0)\n",
       "    (2): Linear(in_features=128, out_features=128, bias=True)\n",
       "    (3): Softplus(beta=1.0, threshold=20.0)\n",
       "    (4): Linear(in_features=128, out_features=2, bias=True)\n",
       "  )\n",
       ")"
      ]
     },
     "execution_count": 7,
     "metadata": {},
     "output_type": "execute_result"
    }
   ],
   "source": [
    "model = NCSN()\n",
    "\n",
    "device = torch.device('cuda' if torch.cuda.is_available() else 'cpu')\n",
    "model = model.to(device)\n",
    "\n",
    "optimizer = optim.Adam(model.parameters(), lr=1e-3)\n",
    "\n",
    "model"
   ]
  },
  {
   "cell_type": "markdown",
   "metadata": {},
   "source": [
    "## Training"
   ]
  },
  {
   "cell_type": "code",
   "execution_count": 8,
   "metadata": {},
   "outputs": [
    {
     "data": {
      "application/vnd.jupyter.widget-view+json": {
       "model_id": "05e6e6042fff4c59b400657cb9a53a09",
       "version_major": 2,
       "version_minor": 0
      },
      "text/plain": [
       "  0%|          | 0/1000 [00:00<?, ?it/s]"
      ]
     },
     "metadata": {},
     "output_type": "display_data"
    }
   ],
   "source": [
    "epochs = 10000\n",
    "batch_size = 128\n",
    "\n",
    "loss_fn = nn.MSELoss()\n",
    "\n",
    "pbar = tqdm(range(epochs), total=epochs, leave=False)\n",
    "\n",
    "for epoch in pbar:\n",
    "    epoch_loss = steps = 0\n",
    "\n",
    "    for i in range(0, len(X), batch_size):\n",
    "        X_batch = X[i:i+batch_size].to(device)\n",
    "\n",
    "        ls = []\n",
    "\n",
    "        for t in range(L):\n",
    "            noise = torch.randn_like(X_batch) * sigmas[t]\n",
    "\n",
    "            x_tilde = X_batch + noise\n",
    "\n",
    "            model_result = model(x_tilde.to(device), sigmas[t].to(device))\n",
    "\n",
    "            loss = loss_fn(model_result, (X_batch - x_tilde) / sigmas[t]**2)\n",
    "            ls.append(loss * lambdas[t])\n",
    "\n",
    "        total_loss = sum(ls) / L\n",
    "\n",
    "        optimizer.zero_grad()\n",
    "        total_loss.backward()\n",
    "        optimizer.step()\n",
    "\n",
    "        epoch_loss += total_loss.item()\n",
    "        steps += 1\n",
    "    \n",
    "    pbar.set_description(f'Loss: {epoch_loss/steps:.4f}')\n",
    "\n",
    "    pbar.update(1)\n",
    "\n",
    "pbar.close()\n"
   ]
  },
  {
   "cell_type": "markdown",
   "metadata": {},
   "source": [
    "## Sampling"
   ]
  },
  {
   "cell_type": "code",
   "execution_count": 9,
   "metadata": {},
   "outputs": [],
   "source": [
    "x_tilde = torch.randn(6000, 2).to(device)\n",
    "x_tilde_history = [x_tilde]\n",
    "\n",
    "for i in range(L):\n",
    "    alpha_i = eps * sigmas[i]**2/sigmas[-1]**2\n",
    "    \n",
    "    for t in range(T):\n",
    "        z_t = torch.randn_like(x_tilde)\n",
    "        \n",
    "        x_tilde = x_tilde + alpha_i/2 * model(x_tilde, sigmas[i].to(device)) + np.sqrt(alpha_i) * z_t\n",
    "        x_tilde_history.append(x_tilde)\n",
    "    \n",
    "    x_tilde = x_tilde.detach()"
   ]
  },
  {
   "cell_type": "code",
   "execution_count": 10,
   "metadata": {},
   "outputs": [
    {
     "name": "stderr",
     "output_type": "stream",
     "text": [
      "MovieWriter imagemagick unavailable; using Pillow instead.\n"
     ]
    },
    {
     "data": {
      "image/png": "[encoded data removed]",
      "text/plain": [
       "<Figure size 600x600 with 1 Axes>"
      ]
     },
     "metadata": {},
     "output_type": "display_data"
    }
   ],
   "source": [
    "fig, ax = plt.subplots(figsize=(6, 6))\n",
    "\n",
    "def draw_frame(i):\n",
    "    ax.clear()\n",
    "    Xvis = x_tilde_history[i].detach().cpu().numpy()\n",
    "    fig = ax.scatter(Xvis[:, 0], Xvis[:, 1], c='black', s=1, animated=True)\n",
    "    ax.set_xlim(-20, 20)\n",
    "    ax.set_ylim(-20, 20)\n",
    "    ax.axis('off')\n",
    "    ax.set_title(f'l = {i // T}, t = {i % T}')\n",
    "    return fig,\n",
    "\n",
    "\n",
    "frames = list(range(T*L)) + [T*L-1] * 100\n",
    "\n",
    "anim = animation.FuncAnimation(fig, draw_frame, frames=frames, interval=50, blit=True)\n",
    "\n",
    "anim.save('NCSN_sampling.gif', writer='imagemagick', fps=20)"
   ]
  }
 ],
 "metadata": {
  "kernelspec": {
   "display_name": "diff_sem",
   "language": "python",
   "name": "python3"
  },
  "language_info": {
   "codemirror_mode": {
    "name": "ipython",
    "version": 3
   },
   "file_extension": ".py",
   "mimetype": "text/x-python",
   "name": "python",
   "nbconvert_exporter": "python",
   "pygments_lexer": "ipython3",
   "version": "3.12.3"
  }
 },
 "nbformat": 4,
 "nbformat_minor": 2
}
